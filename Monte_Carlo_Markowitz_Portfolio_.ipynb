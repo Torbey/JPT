{
  "nbformat": 4,
  "nbformat_minor": 0,
  "metadata": {
    "@webio": {
      "lastCommId": null,
      "lastKernelId": null
    },
    "kernelspec": {
      "display_name": "Python 3",
      "language": "python",
      "name": "python3"
    },
    "language_info": {
      "codemirror_mode": {
        "name": "ipython",
        "version": 3
      },
      "file_extension": ".py",
      "mimetype": "text/x-python",
      "name": "python",
      "nbconvert_exporter": "python",
      "pygments_lexer": "ipython3",
      "version": "3.7.3"
    },
    "colab": {
      "name": "Monte Carlo- Markowitz Portfolio .ipynb",
      "provenance": [],
      "collapsed_sections": [],
      "include_colab_link": true
    }
  },
  "cells": [
    {
      "cell_type": "markdown",
      "metadata": {
        "id": "view-in-github",
        "colab_type": "text"
      },
      "source": [
        "<a href=\"https://colab.research.google.com/github/Torbey/JProg/blob/master/Monte_Carlo_Markowitz_Portfolio_.ipynb\" target=\"_parent\"><img src=\"https://colab.research.google.com/assets/colab-badge.svg\" alt=\"Open In Colab\"/></a>"
      ]
    },
    {
      "cell_type": "code",
      "metadata": {
        "id": "92p1WC6nin3q",
        "colab_type": "code",
        "colab": {}
      },
      "source": [
        "#Import relevant libraries\n",
        "import pandas as pd\n",
        "import numpy as np\n",
        "import pandas_datareader.data as web\n",
        "import matplotlib.pyplot as plt\n",
        "\n",
        "# stocks = ['C', 'AMD', 'XOM', 'SBUX', 'CVS']\n",
        "# stocks = ['BAC', 'GS', 'JPM', 'MS']\n",
        "# stocks = ['SPY', 'JPM', 'AMZN', 'AAPL']\n",
        "stocks = ['BAC', 'GS', 'JPM', 'MS', 'AAPL', 'C', 'AMD', 'XOM', 'SBUX', 'CVS', 'AMZN']\n",
        "data = web.DataReader(stocks,data_source=\"yahoo\",start='10/01/2017',end='12/06/2019')['Adj Close']\n",
        "#print(data)\n",
        "\n"
      ],
      "execution_count": 0,
      "outputs": []
    },
    {
      "cell_type": "code",
      "metadata": {
        "id": "l_ESLCiSin3w",
        "colab_type": "code",
        "colab": {}
      },
      "source": [
        "# Sort data by date in ascending order (it usually comes sorted)\n",
        "data = data.sort_index()\n",
        "#print(data)"
      ],
      "execution_count": 0,
      "outputs": []
    },
    {
      "cell_type": "code",
      "metadata": {
        "id": "2mUfZ4JNin3y",
        "colab_type": "code",
        "colab": {}
      },
      "source": [
        "returns = data/data.shift(1)-1 #can also use data.pct_change()\n",
        "#print(returns)\n",
        "# Increase the Size of the Plot\n",
        "plt.rcParams[\"figure.figsize\"] = (20,10)\n",
        "returns.plot()"
      ],
      "execution_count": 0,
      "outputs": []
    },
    {
      "cell_type": "code",
      "metadata": {
        "id": "-GeM2dfJab26",
        "colab_type": "code",
        "colab": {}
      },
      "source": [
        "returns.dropna(inplace=True)\n",
        "#print(returns)"
      ],
      "execution_count": 0,
      "outputs": []
    },
    {
      "cell_type": "code",
      "metadata": {
        "id": "Dt5pD-4wrNPH",
        "colab_type": "code",
        "colab": {}
      },
      "source": [
        "#np.random.seed(seed) \n",
        "\n",
        "n = 10\n",
        "dt = 1 # time step\n",
        "b = np.random.normal(0., 1., (1000,n))*np.sqrt(dt)  # brownian increments\n",
        "print(len(b))\n",
        "print(len(b[0]))\n",
        "s0 = data['AMD'].mean()\n",
        "sh0 = b.shape\n",
        "b = b+1\n",
        "print(b)\n",
        "# [f(x) for x in sequence if condition]\n",
        "# [f(x) if condition else g(x) for x in sequence]\n",
        "#b = [f(x) if condition else g(x) for x in sequence]\n",
        "b = np.array([[s0*v if i == 0 else row[i-1]*v for i,v in enumerate(row)] for row in b])\n",
        "print(b)\n",
        "np.reshape(b, sh0)\n",
        "b\n"
      ],
      "execution_count": 0,
      "outputs": []
    },
    {
      "cell_type": "code",
      "metadata": {
        "id": "KqANn4wWin38",
        "colab_type": "code",
        "colab": {}
      },
      "source": [
        "#Calculate the stocks' mean returns and covariances\n",
        "mean_returns = returns.mean()\n",
        "cov_matrix = returns.cov()\n",
        "\n",
        "#annualize returns\n",
        "mean_returns = (1+mean_returns)**252 - 1\n",
        "#annualize varcovar\n",
        "cov_matrix *= 252\n",
        "\n",
        "print(mean_returns)\n",
        "print(cov_matrix)"
      ],
      "execution_count": 0,
      "outputs": []
    },
    {
      "cell_type": "code",
      "metadata": {
        "id": "saFwtjHQin4B",
        "colab_type": "code",
        "colab": {}
      },
      "source": [
        "def simulate(stocks, num_iterations):\n",
        "  import math\n",
        "  simulation_res = np.zeros((3+len(stocks),num_iterations))\n",
        "  for i in range(num_iterations):\n",
        "      #Select random weights and normalize to set the sum to 1\n",
        "      weights = np.array(np.random.random(len(stocks)))\n",
        "      weights /= np.sum(weights)\n",
        "      #Calculate the return and standard deviation for every step\n",
        "      portfolio_return = sum(mean_returns * weights)\n",
        "      portfolio_std_dev = math.sqrt(np.dot(weights.T,np.dot(cov_matrix, weights)))\n",
        "      #Store all the results in a defined array\n",
        "      simulation_res[0,i] = portfolio_return\n",
        "      simulation_res[1,i] = portfolio_std_dev\n",
        "      #Calculate Sharpe ratio and store it in the array\n",
        "      simulation_res[2,i] = simulation_res[0,i] / simulation_res[1,i]\n",
        "      #Save the weights in the array\n",
        "      for j in range(len(weights)):\n",
        "          simulation_res[j+3,i] = weights[j]\n",
        "  return simulation_res"
      ],
      "execution_count": 0,
      "outputs": []
    },
    {
      "cell_type": "code",
      "metadata": {
        "id": "BidpQSCZVzyY",
        "colab_type": "code",
        "colab": {}
      },
      "source": [
        "def simulate_improved(stocks, num_iterations):\n",
        "  simulation_res = np.zeros((num_iterations,3+len(stocks)))\n",
        "  ww = np.random.random((num_iterations,len(stocks)))                    \n",
        "  weights = np.array([row/sum(row) for row in ww])\n",
        "  portfolio_return = np.dot(weights,mean_returns)\n",
        "  portfolio_std_dev = np.array([math.sqrt(np.dot(weight_row.T,np.dot(cov_matrix, weight_row))) for weight_row in weights])\n",
        "  portfolio_sharpe_ratio = portfolio_return / portfolio_std_dev\n",
        "  simulation_res[:,0] = portfolio_return\n",
        "  simulation_res[:,1] = portfolio_std_dev\n",
        "  simulation_res[:,2] = portfolio_sharpe_ratio\n",
        "  simulation_res[:,3:3+len(stocks)] = weights\n",
        "  return simulation_res"
      ],
      "execution_count": 0,
      "outputs": []
    },
    {
      "cell_type": "code",
      "metadata": {
        "id": "LJLCXd3hdh7n",
        "colab_type": "code",
        "colab": {}
      },
      "source": [
        "def simulate_improved_multiple_returns(stocks, num_iterations):\n",
        "  weight_matrix = np.random.random((num_iterations,len(stocks)))                    \n",
        "  weight_matrix = np.array([row/sum(row) for row in weight_matrix])\n",
        "  \n",
        "  portfolio_returns = np.dot(weights,mean_returns)\n",
        "  portfolio_std_devs = np.array([math.sqrt(np.dot(weight_row.T,np.dot(cov_matrix, weight_row))) for weight_row in weight_matrix])\n",
        "  portfolio_sharpe_ratios = portfolio_returns / portfolio_std_devs\n",
        "  \n",
        "  return portfolio_returns, portfolio_std_devs, portfolio_sharpe_ratios, weight_matrix"
      ],
      "execution_count": 0,
      "outputs": []
    },
    {
      "cell_type": "code",
      "metadata": {
        "id": "VVxoaCKVWPoy",
        "colab_type": "code",
        "outputId": "ff9ffd80-e7b0-4723-bb50-344c242bf67e",
        "colab": {
          "base_uri": "https://localhost:8080/",
          "height": 34
        }
      },
      "source": [
        "#Set the number of iterations and define an array to hold the simulation results; initially set to all zeros\n",
        "import time, math\n",
        "num_iterations = 10000000\n",
        "# start_time = time.time()\n",
        "# simulation_res = simulate(stocks, num_iterations)\n",
        "# end_time = time.time()\n",
        "# print(str(end_time-start_time))\n",
        "start_time = time.time()\n",
        "simulation_res = simulate_improved(stocks, num_iterations)\n",
        "end_time = time.time()\n",
        "print(str(end_time-start_time))"
      ],
      "execution_count": 9,
      "outputs": [
        {
          "output_type": "stream",
          "text": [
            "287.46758460998535\n"
          ],
          "name": "stdout"
        }
      ]
    },
    {
      "cell_type": "code",
      "metadata": {
        "id": "aE7LrogBin4E",
        "colab_type": "code",
        "colab": {}
      },
      "source": [
        "fields=['ret','stdev','sharpe']\n",
        "fields.extend(stocks)\n",
        "# sim_frame = pd.DataFrame(simulation_res.T,columns=fields)\n",
        "sim_frame = pd.DataFrame(simulation_res,columns=fields)\n",
        "#print(sim_frame.head (5))\n",
        "#print(sim_frame.tail (5))"
      ],
      "execution_count": 0,
      "outputs": []
    },
    {
      "cell_type": "code",
      "metadata": {
        "id": "hwPUR_6sin4G",
        "colab_type": "code",
        "colab": {}
      },
      "source": [
        "#Spot the position of the portfolio with highest Sharpe Ratio\n",
        "max_sharpe = sim_frame.iloc[sim_frame['sharpe'].idxmax()]\n",
        "#Spot the position of the portfolio with minimum Standard Deviation\n",
        "min_std = sim_frame.iloc[sim_frame['stdev'].idxmin()]\n",
        "#print(\"The portfolio for max Sharpe Ratio:\\n\", max_sharpe)\n",
        "#print(\"The portfolio for min risk:\\n\", min_std)"
      ],
      "execution_count": 0,
      "outputs": []
    },
    {
      "cell_type": "code",
      "metadata": {
        "id": "5CinMeMpobAv",
        "colab_type": "code",
        "outputId": "9cff5285-4356-4006-9cdf-3753be1b823e",
        "colab": {
          "base_uri": "https://localhost:8080/",
          "height": 283
        }
      },
      "source": [
        "# Increase the Size of the Plot\n",
        "# plt.rcParams[\"figure.figsize\"] = (20,10)\n",
        "\n",
        "#Create a scatter plot coloured by various Sharpe Ratios with standard deviation on the x-axis and returns on the y-axis\n",
        "# plt.scatter(sim_frame.stdev,sim_frame.ret,c=sim_frame.sharpe,cmap='RdYlBu')\n",
        "plt.scatter(sim_frame.stdev,sim_frame.ret,c=sim_frame.sharpe,cmap='Spectral')\n",
        "plt.xlabel('Standard Deviation')\n",
        "plt.ylabel('Returns')\n",
        "\n",
        "minret = sim_frame['ret'].min(axis=0)\n",
        "maxret = sim_frame['ret'].max(axis=0)\n",
        "\n",
        "minstd = sim_frame['stdev'].min(axis=0)\n",
        "maxstd = sim_frame['stdev'].max(axis=0)\n",
        "\n",
        "adj_ret_coeff = abs((maxret-minret))*0.075\n",
        "adj_std_coeff = abs((maxstd-minstd))*0.075\n",
        "\n",
        "#print(\"{}, {}, {}, {}\".format(coeff_maxret, coeff_maxstd, coeff_minret, coeff_minstd))\n",
        "\n",
        "plt.ylim(minret-adj_ret_coeff,maxret+adj_ret_coeff)\n",
        "plt.xlim(minstd-adj_std_coeff,maxstd+adj_std_coeff)\n",
        "\n",
        "#Red Star : Maximum Sharpe Ratio Portfolio\n",
        "plt.scatter(max_sharpe[1],max_sharpe[0],marker=(5,1,0),color='r',s=300)\n",
        "#Blue Star: Minimum Variance Portfolio\n",
        "plt.scatter(min_std[1],min_std[0],marker=(5,1,0),color='b',s=300)\n",
        "\n",
        "plt.show()"
      ],
      "execution_count": 12,
      "outputs": [
        {
          "output_type": "display_data",
          "data": {
            "image/png": "[encoded data removed]",
            "text/plain": [
              "<Figure size 432x288 with 1 Axes>"
            ]
          },
          "metadata": {
            "tags": []
          }
        }
      ]
    }
  ]
}